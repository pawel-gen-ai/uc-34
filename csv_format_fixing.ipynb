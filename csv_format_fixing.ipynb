{
 "cells": [
  {
   "cell_type": "code",
   "execution_count": null,
   "id": "62da3e36-2656-47e0-9612-efdd25fae787",
   "metadata": {},
   "outputs": [],
   "source": []
  },
  {
   "cell_type": "code",
   "execution_count": null,
   "id": "3250d23b-a7f5-4c05-8af5-1c3b8170a08a",
   "metadata": {},
   "outputs": [],
   "source": [
    "\n"
   ]
  },
  {
   "cell_type": "code",
   "execution_count": 4,
   "id": "9be5e28f-45db-412a-b49f-b147e911c6f0",
   "metadata": {
    "scrolled": true
   },
   "outputs": [],
   "source": [
    "import csv\n",
    "import re\n",
    "\n",
    "def correct_line(line):\n",
    "    \"\"\"\n",
    "        Function to correct line of file\n",
    "        assumption: \n",
    "            coulumns are in order, first and second and third are ok, next is number with could be separated by comma or dot\n",
    "            there is full adress after ordered_date\n",
    "        \n",
    "    \"\"\"\n",
    "    \n",
    "    splitted_line = line.strip().split(',')\n",
    "    \n",
    "    order_id = splitted_line[0]\n",
    "    delivery_company = splitted_line[1]\n",
    "    quantity = splitted_line[2]\n",
    "    #used to pick proper order of columns\n",
    "    next_item = 4\n",
    "    #if column 3 and 4 are separated by comma\n",
    "    if splitted_line[3].isdigit() and splitted_line[4].isdigit():\n",
    "        price = f\"\\\"{splitted_line[3]},{splitted_line[4]}\\\"\"\n",
    "        next_item = 5\n",
    "    else:\n",
    "        price = splitted_line[3]\n",
    "        \n",
    "    ordered_date = splitted_line[next_item]\n",
    "    #after ordered_date everything is address\n",
    "    address = f\"\\\"{','.join(splitted_line[next_item + 1:])}\\\"\"\n",
    "    return f\"{order_id},{delivery_company},{quantity},{price},{ordered_date},{address}\"\n",
    "\n",
    "def format_csv(file_in, file_out):\n",
    "    \"\"\"\n",
    "        Format csv file per requirement\n",
    "        \n",
    "    \"\"\"\n",
    "    #open files\n",
    "    with open(file_in, 'r') as csv_file:\n",
    "        with open(file_out, 'w') as wcsv_file:\n",
    "\n",
    "            #copy header\n",
    "            wcsv_file.write(csv_file.readline())\n",
    "    \n",
    "            while True:\n",
    "       \n",
    "                # Get next line from file\n",
    "                line = csv_file.readline()\n",
    "                \n",
    "                # if line is empty\n",
    "                # end of file is reached\n",
    "                if not line:\n",
    "                    break\n",
    "                    \n",
    "                wcsv_file.write(f\"{correct_line(line)}\\n\")\n",
    "         \n",
    "\n",
    "format_csv('work/clean_me.csv', 'work/clean_me_out.csv')\n",
    "\n"
   ]
  },
  {
   "cell_type": "code",
   "execution_count": null,
   "id": "8f8f8dad-c228-4b81-9b30-530a8e0398f8",
   "metadata": {},
   "outputs": [],
   "source": []
  },
  {
   "cell_type": "code",
   "execution_count": null,
   "id": "e0733e99-882b-4837-bf45-b0318f6d425f",
   "metadata": {},
   "outputs": [],
   "source": [
    "\n"
   ]
  },
  {
   "cell_type": "code",
   "execution_count": null,
   "id": "d556682a-3e06-4ac7-8dd1-7c00d24d790f",
   "metadata": {},
   "outputs": [],
   "source": []
  },
  {
   "cell_type": "code",
   "execution_count": null,
   "id": "f3b31dcd-d48d-4e21-ab10-c3a2bc423346",
   "metadata": {},
   "outputs": [],
   "source": []
  }
 ],
 "metadata": {
  "kernelspec": {
   "display_name": "Python 3 (ipykernel)",
   "language": "python",
   "name": "python3"
  },
  "language_info": {
   "codemirror_mode": {
    "name": "ipython",
    "version": 3
   },
   "file_extension": ".py",
   "mimetype": "text/x-python",
   "name": "python",
   "nbconvert_exporter": "python",
   "pygments_lexer": "ipython3",
   "version": "3.11.4"
  }
 },
 "nbformat": 4,
 "nbformat_minor": 5
}
