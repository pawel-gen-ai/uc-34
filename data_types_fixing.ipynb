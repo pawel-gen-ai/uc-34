{
 "cells": [
  {
   "cell_type": "code",
   "execution_count": 1,
   "id": "62da3e36-2656-47e0-9612-efdd25fae787",
   "metadata": {},
   "outputs": [
    {
     "data": {
      "text/plain": [
       "[720, 21, 67, 437, 238]"
      ]
     },
     "execution_count": 1,
     "metadata": {},
     "output_type": "execute_result"
    }
   ],
   "source": [
    "import pyspark \n",
    "sc = pyspark.SparkContext('local[*]')\n",
    "# do something to prove it works\n",
    "rdd = sc.parallelize(range(1000))\n",
    "rdd.takeSample(False, 5)\n"
   ]
  },
  {
   "cell_type": "code",
   "execution_count": 12,
   "id": "3250d23b-a7f5-4c05-8af5-1c3b8170a08a",
   "metadata": {},
   "outputs": [
    {
     "name": "stdout",
     "output_type": "stream",
     "text": [
      "#df: 499999\n"
     ]
    }
   ],
   "source": [
    "from pyspark.sql import SparkSession\n",
    "\n",
    "# Initialize a Spark session\n",
    "spark = SparkSession.builder \\\n",
    "    .appName(\"Read CSV File\") \\\n",
    "    .getOrCreate()\n",
    "\n",
    "# Read the CSV file into a DataFrame\n",
    "df = spark.read.csv(\"work/clean_me_out.csv\", header=True, sep=\",\", quote = \"\\\"\")\n",
    "print(f\"#df: {df.count()}\")\n"
   ]
  },
  {
   "cell_type": "code",
   "execution_count": 14,
   "id": "9be5e28f-45db-412a-b49f-b147e911c6f0",
   "metadata": {},
   "outputs": [
    {
     "name": "stdout",
     "output_type": "stream",
     "text": [
      "+--------+----------------+--------+------+------------+--------------------------------+\n",
      "|order_id|delivery_company|quantity|price |ordered_date|address                         |\n",
      "+--------+----------------+--------+------+------------+--------------------------------+\n",
      "|1       |delivery_comp_1 |1       |245,52|9-2-2022    |Cedar Lane Houston,CA 90001     |\n",
      "|2       |delivery_comp_2 |2       |114,77|null        |Main Street,New York CA 60601   |\n",
      "|3       |delivery_comp_3 |null    |739,43|14-3-2022   |Main Street,Chicago TX 10001    |\n",
      "|4       |delivery_comp_0 |1       |878.93|20/4/2022   |Oak Avenue,Los Angeles FL 90001 |\n",
      "|5       |delivery_comp_1 |2       |481,44|null        |Maple Drive Chicago,FL 60601    |\n",
      "|6       |delivery_comp_2 |#NA     |78,13 |null        |Main Street,Houston NY 77001    |\n",
      "|7       |delivery_comp_3 |1       |832.17|20-2-2022   |Oak Avenue New York,CA 10001    |\n",
      "|8       |delivery_comp_0 |2       |687,8 |1/4/2022    |Maple Drive,Los Angeles,CA,10001|\n",
      "|9       |delivery_comp_1 |#NA     |338,44|13/4/2022   |Cedar Lane Miami,NY 77001       |\n",
      "|10      |delivery_comp_2 |1       |461.33|null        |Oak Avenue,Chicago,NY 77001     |\n",
      "|11      |delivery_comp_3 |2       |544.33|8/4/2022    |Oak Avenue,Los Angeles,CA 90001 |\n",
      "|12      |delivery_comp_0 |NA      |200,20|null        |Cedar Lane,Los Angeles FL 77001 |\n",
      "|13      |delivery_comp_1 |1       |939,99|null        |Main Street,Chicago,IL,33101    |\n",
      "|14      |delivery_comp_2 |2       |72,69 |2/3/2022    |Oak Avenue,Los Angeles,NY,33101 |\n",
      "|15      |delivery_comp_3 |null    |635.28|15-2-2022   |Main Street,Miami,FL 10001      |\n",
      "|16      |delivery_comp_0 |1       |592.83|2/3/2022    |Main Street,Los Angeles,FL,90001|\n",
      "|17      |delivery_comp_1 |2       |533.6 |2-3-2022    |Maple Drive,Houston,TX 90001    |\n",
      "|18      |delivery_comp_2 |NaN     |424.70|null        |Cedar Lane,New York,TX 33101    |\n",
      "|19      |delivery_comp_3 |1       |889,97|4-3-2022    |Elm Street,Miami TX 90001       |\n",
      "|20      |delivery_comp_0 |2       |222.12|20/3/2022   |Maple Drive,Miami,IL 77001      |\n",
      "+--------+----------------+--------+------+------------+--------------------------------+\n",
      "only showing top 20 rows\n",
      "\n"
     ]
    }
   ],
   "source": [
    "df.show(truncate=False)"
   ]
  },
  {
   "cell_type": "code",
   "execution_count": 18,
   "id": "8f8f8dad-c228-4b81-9b30-530a8e0398f8",
   "metadata": {},
   "outputs": [],
   "source": [
    "def unify_price(price):\n",
    "    # replace comma with a dot\n",
    "    return float(price.replace(\",\",\".\"))\n",
    "\n",
    "\n",
    "    "
   ]
  },
  {
   "cell_type": "code",
   "execution_count": 107,
   "id": "3feed0fa-9660-4fea-b5cd-6a4b0747a8d9",
   "metadata": {},
   "outputs": [],
   "source": [
    "def unify_date(date):\n",
    "    if date == 'null':\n",
    "        return None\n",
    "    #replace slahs with dash\n",
    "    words = date.replace(\"/\",\"-\").split(\"-\")\n",
    "    #add leading zeroes\n",
    "    return f\"{('0' + words[0])[-2:]}-{('0'+ words[1])[-2:]}-{words[2]}\"\n",
    "    \n"
   ]
  },
  {
   "cell_type": "code",
   "execution_count": 113,
   "id": "5497b1b7-9f52-4263-b85a-816513f95f00",
   "metadata": {},
   "outputs": [],
   "source": [
    "def unify_address(address):\n",
    "    \"\"\"\n",
    "        traverse from end to begging of a string to get zipcode, state, city, street\n",
    "    \"\"\"\n",
    "    words = address.split(\",\")\n",
    "    if words[-1].isdigit():\n",
    "        zipCode = words[-1]\n",
    "        words.remove(words[-1])\n",
    "    else:\n",
    "        zwords = words[-1].split(\" \")\n",
    "        zipCode = zwords[-1]\n",
    "        words.remove(words[-1])\n",
    "        zwords.remove(zwords[-1])\n",
    "        words.append(\" \".join(zwords))\n",
    "\n",
    "    if len(words[-1]) == 2:\n",
    "        state = words[-1]\n",
    "        words.remove(words[-1])\n",
    "    else:\n",
    "        state = words[-1][-2:]\n",
    "        words[-1] = words[-1][:-2].strip()\n",
    "\n",
    "    if len(words) == 2:\n",
    "        city = words[-1]\n",
    "        street = words[0]\n",
    "    else:\n",
    "        city = words[0].split(' ')[-1]\n",
    "        street = \" \".join(words[0].split(' ')[:-1])\n",
    "    return f\"{street}, {city}, {state}, {zipCode}\"\n",
    "    \n",
    "#print(unify_address('Maple Drive,Miami,IL 77001'))\n",
    "#print(unify_address('Elm Street,Miami TX 90001'))\n",
    "#print(unify_address('Cedar Lane Houston,CA 90001'))\n",
    "#print(unify_address('Main Street,New York CA 60601'))"
   ]
  },
  {
   "cell_type": "code",
   "execution_count": 108,
   "id": "bb95d73d-dbd5-4748-a368-61c2217fe6cf",
   "metadata": {},
   "outputs": [],
   "source": [
    "from pyspark.sql.functions import udf\n",
    "udf_unify_price = udf(unify_price)\n",
    "udf_unify_date = udf(unify_date)\n",
    "udf_unify_address = udf(unify_address)"
   ]
  },
  {
   "cell_type": "code",
   "execution_count": 112,
   "id": "ce6f2e65-074a-4a0d-8876-6be4655fe9b5",
   "metadata": {},
   "outputs": [
    {
     "name": "stdout",
     "output_type": "stream",
     "text": [
      "+------------------+------------------------+-----------------------------------+\n",
      "|unify_price(price)|unify_date(ordered_date)|unify_address(address)             |\n",
      "+------------------+------------------------+-----------------------------------+\n",
      "|245.52            |09-02-2022              |Cedar Lane, Houston, CA, 90001     |\n",
      "|114.77            |null                    |Main Street, New York, CA, 60601   |\n",
      "|739.43            |14-03-2022              |Main Street, Chicago, TX, 10001    |\n",
      "|878.93            |20-04-2022              |Oak Avenue, Los Angeles, FL, 90001 |\n",
      "|481.44            |null                    |Maple Drive, Chicago, FL, 60601    |\n",
      "|78.13             |null                    |Main Street, Houston, NY, 77001    |\n",
      "|832.17            |20-02-2022              |Oak Avenue New, York, CA, 10001    |\n",
      "|687.8             |01-04-2022              |Maple Drive, Los Angeles, CA, 10001|\n",
      "|338.44            |13-04-2022              |Cedar Lane, Miami, NY, 77001       |\n",
      "|461.33            |null                    |Oak Avenue, Chicago, NY, 77001     |\n",
      "|544.33            |08-04-2022              |Oak Avenue, Los Angeles, CA, 90001 |\n",
      "|200.2             |null                    |Cedar Lane, Los Angeles, FL, 77001 |\n",
      "|939.99            |null                    |Main Street, Chicago, IL, 33101    |\n",
      "|72.69             |02-03-2022              |Oak Avenue, Los Angeles, NY, 33101 |\n",
      "|635.28            |15-02-2022              |Main Street, Miami, FL, 10001      |\n",
      "|592.83            |02-03-2022              |Main Street, Los Angeles, FL, 90001|\n",
      "|533.6             |02-03-2022              |Maple Drive, Houston, TX, 90001    |\n",
      "|424.7             |null                    |Cedar Lane, New York, TX, 33101    |\n",
      "|889.97            |04-03-2022              |Elm Street, Miami, TX, 90001       |\n",
      "|222.12            |20-03-2022              |Maple Drive, Miami, IL, 77001      |\n",
      "|111.18            |04-02-2022              |Maple Drive Los, Angeles, TX, 60601|\n",
      "|167.54            |03-02-2022              |Maple Drive, Chicago, NY, 33101    |\n",
      "|169.48            |25-02-2022              |Cedar Lane, Miami, IL, 10001       |\n",
      "|747.71            |16-03-2022              |Cedar Lane, Chicago, FL, 77001     |\n",
      "|118.47            |15-04-2022              |Main Street, Los Angeles, TX, 60601|\n",
      "|465.48            |null                    |Elm Street, Los Angeles, FL, 60601 |\n",
      "|650.2             |null                    |Oak Avenue, Miami, IL, 60601       |\n",
      "|45.88             |09-02-2022              |Main Street Los, Angeles, IL, 33101|\n",
      "|749.48            |17-03-2022              |Oak Avenue, Houston, FL, 60601     |\n",
      "|987.43            |24-03-2022              |Cedar Lane, Miami, CA, 90001       |\n",
      "|106.37            |null                    |Elm Street, Miami, CA, 10001       |\n",
      "|720.7             |20-02-2022              |Oak Avenue, New York, FL, 90001    |\n",
      "|713.49            |09-02-2022              |Maple Drive, Houston, FL, 60601    |\n",
      "|296.94            |null                    |Maple Drive, Chicago, CA, 60601    |\n",
      "|76.19             |04-04-2022              |Main Street, Los Angeles, CA, 10001|\n",
      "|883.49            |19-03-2022              |Maple Drive, New York, CA, 90001   |\n",
      "|771.72            |null                    |Elm Street, Miami, CA, 10001       |\n",
      "|69.23             |null                    |Cedar Lane, Houston, NY, 10001     |\n",
      "|933.2             |null                    |Elm Street, New York, FL, 33101    |\n",
      "|238.47            |05-03-2022              |Cedar Lane, Chicago, TX, 10001     |\n",
      "|684.59            |10-02-2022              |Maple Drive New, York, FL, 60601   |\n",
      "|540.13            |08-01-2022              |Maple Drive, Los Angeles, NY, 33101|\n",
      "|563.0             |15-03-2022              |Cedar Lane, Los Angeles, CA, 77001 |\n",
      "|187.75            |02-02-2022              |Oak Avenue Los, Angeles, CA, 10001 |\n",
      "|951.66            |13-03-2022              |Elm Street, Los Angeles, NY, 10001 |\n",
      "|815.97            |19-02-2022              |Main Street, Chicago, TX, 60601    |\n",
      "|162.57            |19-02-2022              |Oak Avenue, New York, FL, 60601    |\n",
      "|279.62            |06-01-2022              |Elm Street, New York, IL, 60601    |\n",
      "|314.36            |null                    |Cedar Lane, Houston, NY, 10001     |\n",
      "|410.58            |09-02-2022              |Maple Drive New, York, IL, 77001   |\n",
      "+------------------+------------------------+-----------------------------------+\n",
      "only showing top 50 rows\n",
      "\n"
     ]
    }
   ],
   "source": [
    "df.select(udf_unify_price('price'), udf_unify_date('ordered_date'), udf_unify_address('address')).show(50, truncate = False)"
   ]
  },
  {
   "cell_type": "code",
   "execution_count": null,
   "id": "ec38ddc5-c163-437a-b994-657a1ae5eb49",
   "metadata": {},
   "outputs": [],
   "source": []
  }
 ],
 "metadata": {
  "kernelspec": {
   "display_name": "Python 3 (ipykernel)",
   "language": "python",
   "name": "python3"
  },
  "language_info": {
   "codemirror_mode": {
    "name": "ipython",
    "version": 3
   },
   "file_extension": ".py",
   "mimetype": "text/x-python",
   "name": "python",
   "nbconvert_exporter": "python",
   "pygments_lexer": "ipython3",
   "version": "3.11.4"
  }
 },
 "nbformat": 4,
 "nbformat_minor": 5
}
